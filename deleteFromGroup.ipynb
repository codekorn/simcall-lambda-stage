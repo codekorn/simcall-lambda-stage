{
 "cells": [
  {
   "cell_type": "code",
   "execution_count": 1,
   "id": "0dafa2c5",
   "metadata": {},
   "outputs": [],
   "source": [
    "import psycopg2\n",
    "import numpy as np\n",
    "from psycopg2.sql import Identifier,SQL,Literal\n",
    "import pandas as pd\n",
    "import datetime\n",
    "import json"
   ]
  },
  {
   "cell_type": "code",
   "execution_count": 11,
   "id": "e1e51c0c",
   "metadata": {},
   "outputs": [],
   "source": [
    "conn = psycopg2.connect(\n",
    "    host=\"stage-database.c2gt8sxyfb4d.us-east-1.rds.amazonaws.com\",\n",
    "    database=\"simcall_main\",\n",
    "    user=\"jupyter\",\n",
    "    password=\"9akKB%(f0Y)8zUY6F=u=)l£Mh]\")"
   ]
  },
  {
   "cell_type": "code",
   "execution_count": 12,
   "id": "c9eb7ca4",
   "metadata": {},
   "outputs": [],
   "source": [
    "cur = conn.cursor()"
   ]
  },
  {
   "cell_type": "code",
   "execution_count": 13,
   "id": "2c717301",
   "metadata": {},
   "outputs": [],
   "source": [
    "query = \"\"\"Select gl.line_id, l.sim_number, l.phone_number,\n",
    "  g.autopay, g.next_payment,\n",
    "  case when g.manager_id = l.id then 1 end\n",
    "  is_manager,\n",
    "  g.max_lines - count(*) over() open_lines\n",
    "from groups g\n",
    "join group_lines gl\n",
    "   on g.id = gl.group_id\n",
    "join lines l\n",
    "  on l.id = gl.line_id\n",
    "where g.id = %s\n",
    "order by group_line\"\"\""
   ]
  },
  {
   "cell_type": "code",
   "execution_count": 14,
   "id": "f925be49",
   "metadata": {},
   "outputs": [],
   "source": [
    "cur.execute(query, (1,))"
   ]
  },
  {
   "cell_type": "code",
   "execution_count": 15,
   "id": "f9316568",
   "metadata": {},
   "outputs": [],
   "source": [
    "data = cur.fetchall()"
   ]
  },
  {
   "cell_type": "code",
   "execution_count": 20,
   "id": "a0489404",
   "metadata": {},
   "outputs": [
    {
     "ename": "TypeError",
     "evalue": "tuple indices must be integers or slices, not str",
     "output_type": "error",
     "traceback": [
      "\u001b[0;31m---------------------------------------------------------------------------\u001b[0m",
      "\u001b[0;31mTypeError\u001b[0m                                 Traceback (most recent call last)",
      "Input \u001b[0;32mIn [20]\u001b[0m, in \u001b[0;36m<cell line: 1>\u001b[0;34m()\u001b[0m\n\u001b[0;32m----> 1\u001b[0m \u001b[43mcur\u001b[49m\u001b[38;5;241;43m.\u001b[39;49m\u001b[43mdescription\u001b[49m\u001b[43m[\u001b[49m\u001b[38;5;241;43m0\u001b[39;49m\u001b[43m]\u001b[49m\u001b[43m[\u001b[49m\u001b[38;5;124;43m'\u001b[39;49m\u001b[38;5;124;43mname\u001b[39;49m\u001b[38;5;124;43m'\u001b[39;49m\u001b[43m]\u001b[49m\n",
      "\u001b[0;31mTypeError\u001b[0m: tuple indices must be integers or slices, not str"
     ]
    }
   ],
   "source": [
    "cur.description[0]"
   ]
  },
  {
   "cell_type": "code",
   "execution_count": 14,
   "id": "88a9599a",
   "metadata": {},
   "outputs": [],
   "source": [
    "cur.execute('delete from group_lines where line_id = 120932')"
   ]
  },
  {
   "cell_type": "code",
   "execution_count": 15,
   "id": "37eb23b6",
   "metadata": {},
   "outputs": [
    {
     "ename": "ProgrammingError",
     "evalue": "no results to fetch",
     "output_type": "error",
     "traceback": [
      "\u001b[0;31m---------------------------------------------------------------------------\u001b[0m",
      "\u001b[0;31mProgrammingError\u001b[0m                          Traceback (most recent call last)",
      "Input \u001b[0;32mIn [15]\u001b[0m, in \u001b[0;36m<cell line: 1>\u001b[0;34m()\u001b[0m\n\u001b[0;32m----> 1\u001b[0m \u001b[43mcur\u001b[49m\u001b[38;5;241;43m.\u001b[39;49m\u001b[43mfetchall\u001b[49m\u001b[43m(\u001b[49m\u001b[43m)\u001b[49m\n",
      "\u001b[0;31mProgrammingError\u001b[0m: no results to fetch"
     ]
    }
   ],
   "source": [
    "cur.fetchall()"
   ]
  },
  {
   "cell_type": "code",
   "execution_count": 26,
   "id": "d733bf34",
   "metadata": {},
   "outputs": [],
   "source": [
    "cur.execute('delete from group_lines where line_id = 120932')"
   ]
  },
  {
   "cell_type": "code",
   "execution_count": 27,
   "id": "314e957e",
   "metadata": {},
   "outputs": [
    {
     "data": {
      "text/plain": [
       "'DELETE 1'"
      ]
     },
     "execution_count": 27,
     "metadata": {},
     "output_type": "execute_result"
    }
   ],
   "source": [
    "cur.statusmessage"
   ]
  },
  {
   "cell_type": "code",
   "execution_count": 29,
   "id": "cf38139a",
   "metadata": {},
   "outputs": [],
   "source": [
    "cur."
   ]
  },
  {
   "cell_type": "code",
   "execution_count": 23,
   "id": "71e21598",
   "metadata": {},
   "outputs": [],
   "source": [
    "conn.close()"
   ]
  },
  {
   "cell_type": "code",
   "execution_count": 30,
   "id": "54f7d9b4",
   "metadata": {},
   "outputs": [
    {
     "data": {
      "text/plain": [
       "[1, 0]"
      ]
     },
     "execution_count": 30,
     "metadata": {},
     "output_type": "execute_result"
    }
   ],
   "source": [
    "d = {'0': 1, '1': 0}\n",
    "[d[str(i)] for i in range(len(d))]"
   ]
  },
  {
   "cell_type": "code",
   "execution_count": 38,
   "id": "f4f09284",
   "metadata": {},
   "outputs": [],
   "source": [
    "event = {\n",
    "  \"0\" : {\"line_id\": 120932}\n",
    "}"
   ]
  },
  {
   "cell_type": "code",
   "execution_count": 40,
   "id": "1e0db676",
   "metadata": {},
   "outputs": [
    {
     "ename": "OperationalError",
     "evalue": "server closed the connection unexpectedly\n\tThis probably means the server terminated abnormally\n\tbefore or while processing the request.\nserver closed the connection unexpectedly\n\tThis probably means the server terminated abnormally\n\tbefore or while processing the request.\n",
     "output_type": "error",
     "traceback": [
      "\u001b[0;31m---------------------------------------------------------------------------\u001b[0m",
      "\u001b[0;31mOperationalError\u001b[0m                          Traceback (most recent call last)",
      "Input \u001b[0;32mIn [40]\u001b[0m, in \u001b[0;36m<cell line: 3>\u001b[0;34m()\u001b[0m\n\u001b[1;32m      1\u001b[0m line_ids \u001b[38;5;241m=\u001b[39m \u001b[38;5;28mtuple\u001b[39m(event[\u001b[38;5;28mstr\u001b[39m(i)][\u001b[38;5;124m'\u001b[39m\u001b[38;5;124mline_id\u001b[39m\u001b[38;5;124m'\u001b[39m] \u001b[38;5;28;01mfor\u001b[39;00m i \u001b[38;5;129;01min\u001b[39;00m \u001b[38;5;28mrange\u001b[39m(\u001b[38;5;28mlen\u001b[39m(event)))\n\u001b[1;32m      2\u001b[0m sql \u001b[38;5;241m=\u001b[39m \u001b[38;5;124m'\u001b[39m\u001b[38;5;124mdelete from group_lines where line_id in \u001b[39m\u001b[38;5;132;01m%s\u001b[39;00m\u001b[38;5;124m'\u001b[39m\n\u001b[0;32m----> 3\u001b[0m \u001b[43mcur\u001b[49m\u001b[38;5;241;43m.\u001b[39;49m\u001b[43mexecute\u001b[49m\u001b[43m(\u001b[49m\u001b[43msql\u001b[49m\u001b[43m,\u001b[49m\u001b[43m \u001b[49m\u001b[43m(\u001b[49m\u001b[43mline_ids\u001b[49m\u001b[43m,\u001b[49m\u001b[43m)\u001b[49m\u001b[43m)\u001b[49m\n\u001b[1;32m      4\u001b[0m data \u001b[38;5;241m=\u001b[39m cur\u001b[38;5;241m.\u001b[39mstatusmessage\n",
      "\u001b[0;31mOperationalError\u001b[0m: server closed the connection unexpectedly\n\tThis probably means the server terminated abnormally\n\tbefore or while processing the request.\nserver closed the connection unexpectedly\n\tThis probably means the server terminated abnormally\n\tbefore or while processing the request.\n"
     ]
    }
   ],
   "source": [
    "line_ids = tuple(event[str(i)]['line_id'] for i in range(len(event)))\n",
    "sql = 'delete from group_lines where line_id in %s'\n",
    "cur.execute(sql, (line_ids,))\n",
    "data = cur.statusmessage"
   ]
  },
  {
   "cell_type": "code",
   "execution_count": null,
   "id": "08053fd3",
   "metadata": {},
   "outputs": [],
   "source": [
    "json.dumps()"
   ]
  }
 ],
 "metadata": {
  "kernelspec": {
   "display_name": "Python 3 (ipykernel)",
   "language": "python",
   "name": "python3"
  },
  "language_info": {
   "codemirror_mode": {
    "name": "ipython",
    "version": 3
   },
   "file_extension": ".py",
   "mimetype": "text/x-python",
   "name": "python",
   "nbconvert_exporter": "python",
   "pygments_lexer": "ipython3",
   "version": "3.9.12"
  }
 },
 "nbformat": 4,
 "nbformat_minor": 5
}
