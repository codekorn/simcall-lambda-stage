{
 "cells": [
  {
   "cell_type": "code",
   "execution_count": null,
   "id": "e6672721",
   "metadata": {},
   "outputs": [],
   "source": [
    "insert into groups(manager_id, autopay, next_payment, max_lines)\n",
    "select lines.id, true, t.next_payment, 10 from temp_csv t\n",
    "join lines on phone_number = phone and sim_number=sim\n",
    "where new_group=1;"
   ]
  }
 ],
 "metadata": {
  "kernelspec": {
   "display_name": "Python 3 (ipykernel)",
   "language": "python",
   "name": "python3"
  },
  "language_info": {
   "codemirror_mode": {
    "name": "ipython",
    "version": 3
   },
   "file_extension": ".py",
   "mimetype": "text/x-python",
   "name": "python",
   "nbconvert_exporter": "python",
   "pygments_lexer": "ipython3",
   "version": "3.9.12"
  }
 },
 "nbformat": 4,
 "nbformat_minor": 5
}
