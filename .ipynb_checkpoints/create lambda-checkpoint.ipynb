{
 "cells": [
  {
   "cell_type": "code",
   "execution_count": 1,
   "id": "fd477184",
   "metadata": {},
   "outputs": [],
   "source": [
    "import boto3\n",
    "import credentials\n",
    "import logging\n",
    "import io\n",
    "import zipfile"
   ]
  },
  {
   "cell_type": "code",
   "execution_count": 2,
   "id": "0ea66555",
   "metadata": {},
   "outputs": [],
   "source": [
    "logger = logging.getLogger(__name__)"
   ]
  },
  {
   "cell_type": "code",
   "execution_count": 3,
   "id": "940eb073",
   "metadata": {},
   "outputs": [],
   "source": [
    "session = boto3.Session(\n",
    "    aws_access_key_id=credentials.my_access_key,\n",
    "    aws_secret_access_key=credentials.my_secret_access_key,\n",
    ")"
   ]
  },
  {
   "cell_type": "code",
   "execution_count": 4,
   "id": "b8625403",
   "metadata": {},
   "outputs": [],
   "source": [
    "lambda_client = session.client('lambda')"
   ]
  },
  {
   "cell_type": "code",
   "execution_count": 27,
   "id": "04737af6",
   "metadata": {},
   "outputs": [],
   "source": [
    "class LambdaWrapper:\n",
    "    def __init__(self, lambda_client):\n",
    "        self.lambda_client = lambda_client\n",
    "        \n",
    "        \n",
    "        \n",
    "    @staticmethod   \n",
    "    def create_deployment_package(source_file, destination_file):\n",
    "        \"\"\"\n",
    "        Creates a Lambda deployment package in .zip format in an in-memory buffer. This\n",
    "        buffer can be passed directly to Lambda when creating the function.\n",
    "\n",
    "        :param source_file: The name of the file that contains the Lambda handler\n",
    "                            function.\n",
    "        :param destination_file: The name to give the file when it's deployed to Lambda.\n",
    "        :return: The deployment package.\n",
    "        \"\"\"\n",
    "        buffer = io.BytesIO()\n",
    "        with zipfile.ZipFile(buffer, \"w\") as zipped:\n",
    "            zipped.write(source_file, destination_file)\n",
    "        buffer.seek(0)\n",
    "        return buffer.read()\n",
    "\n",
    "    def create_function(\n",
    "        self, function_name, description, handler_name, iam_role, deployment_package\n",
    "    ):\n",
    "        \"\"\"\n",
    "        Deploys a Lambda function.\n",
    "\n",
    "        :param function_name: The name of the Lambda function.\n",
    "        :param handler_name: The fully qualified name of the handler function. This\n",
    "                             must include the file name and the function name.\n",
    "        :param iam_role: The IAM role to use for the function.\n",
    "        :param deployment_package: The deployment package that contains the function\n",
    "                                   code in .zip format.\n",
    "        :return: The Amazon Resource Name (ARN) of the newly created function.\n",
    "        \"\"\"\n",
    "        try:\n",
    "            response = self.lambda_client.create_function(\n",
    "                FunctionName=function_name,\n",
    "                Description=description,\n",
    "                Runtime=\"python3.8\",\n",
    "                Role=iam_role,\n",
    "                Handler=handler_name,\n",
    "                Code={\"ZipFile\": deployment_package},\n",
    "                Layers=['arn:aws:lambda:us-east-1:115312984914:layer:psycopg2:5'],\n",
    "                Publish=True,\n",
    "                Environment={\n",
    "                            'Variables': {\n",
    "                        'stage_db': 'stage-database.c2gt8sxyfb4d.us-east-1.rds.amazonaws.com'\n",
    "                        }\n",
    "                    })\n",
    "            function_arn = response[\"FunctionArn\"]\n",
    "            waiter = self.lambda_client.get_waiter(\"function_active_v2\")\n",
    "            waiter.wait(FunctionName=function_name)\n",
    "            logger.info(\n",
    "                \"Created function '%s' with ARN: '%s'.\",\n",
    "                function_name,\n",
    "                response[\"FunctionArn\"],\n",
    "            )\n",
    "        except :\n",
    "           \n",
    "            raise\n",
    "        else:\n",
    "            return function_arn\n",
    "        \n",
    "        \n",
    "        def update_function_code(self, function_name, deployment_package):\n",
    "        \"\"\"\n",
    "        Updates the code for a Lambda function by submitting a .zip archive that contains\n",
    "        the code for the function.\n",
    "\n",
    "        :param function_name: The name of the function to update.\n",
    "        :param deployment_package: The function code to update, packaged as bytes in\n",
    "                                   .zip format.\n",
    "        :return: Data about the update, including the status.\n",
    "        \"\"\"\n",
    "            try:\n",
    "                response = self.lambda_client.update_function_code(\n",
    "                    FunctionName=function_name, ZipFile=deployment_package\n",
    "                )\n",
    "            except ClientError as err:\n",
    "                logger.error(\n",
    "                    \"Couldn't update function %s. Here's why: %s: %s\",\n",
    "                    function_name,\n",
    "                    err.response[\"Error\"][\"Code\"],\n",
    "                    err.response[\"Error\"][\"Message\"],\n",
    "                )\n",
    "                raise\n",
    "            else:\n",
    "                return response"
   ]
  },
  {
   "cell_type": "code",
   "execution_count": 56,
   "id": "6449584a",
   "metadata": {},
   "outputs": [],
   "source": [
    "lambda_client = LambdaWrapper(client)"
   ]
  },
  {
   "cell_type": "code",
   "execution_count": 57,
   "id": "05e21a23",
   "metadata": {},
   "outputs": [
    {
     "data": {
      "text/plain": [
       "'arn:aws:lambda:us-east-1:115312984914:function:get_group_lines'"
      ]
     },
     "execution_count": 57,
     "metadata": {},
     "output_type": "execute_result"
    }
   ],
   "source": [
    "file_name = 'get_group_lines'\n",
    "deployment_package = LambdaWrapper.create_deployment_package(file_name+'.py', 'lambda_function.py')\n",
    "lambda_arn = lambda_client.create_function(file_name, 'GET all group lines based on group ID', 'lambda_function.lambda_handler',\n",
    "                              'arn:aws:iam::115312984914:role/LambdaRDSFullAccess',deployment_package)\n",
    "lambda_arn"
   ]
  },
  {
   "cell_type": "markdown",
   "id": "9a9411d4",
   "metadata": {},
   "source": [
    "### Create API Gateway"
   ]
  },
  {
   "cell_type": "code",
   "execution_count": null,
   "id": "da689dae",
   "metadata": {},
   "outputs": [],
   "source": [
    "api_gw_client = session.client('apigateway')"
   ]
  },
  {
   "cell_type": "code",
   "execution_count": 68,
   "id": "fb2120c2",
   "metadata": {},
   "outputs": [],
   "source": [
    "restApiId='wbp7m35ckc'\n",
    "group_line_resource_id = '4fs91u'"
   ]
  },
  {
   "cell_type": "code",
   "execution_count": 69,
   "id": "08d8fa60",
   "metadata": {},
   "outputs": [],
   "source": [
    "resources = api_gw_client.get_resources(restApiId='wbp7m35ckc')['items']"
   ]
  },
  {
   "cell_type": "code",
   "execution_count": 70,
   "id": "c0fd0193",
   "metadata": {},
   "outputs": [
    {
     "data": {
      "text/plain": [
       "[{'id': '4fs91u',\n",
       "  'parentId': 'pdmkciekkf',\n",
       "  'pathPart': 'group-line',\n",
       "  'path': '/group-line'},\n",
       " {'id': 'elgofa',\n",
       "  'parentId': 'pdmkciekkf',\n",
       "  'pathPart': 'addGroup',\n",
       "  'path': '/addGroup',\n",
       "  'resourceMethods': {'GET': {}}},\n",
       " {'id': 'pdmkciekkf', 'path': '/'},\n",
       " {'id': 'q0djbe',\n",
       "  'parentId': 'pdmkciekkf',\n",
       "  'pathPart': 'add_group',\n",
       "  'path': '/add_group',\n",
       "  'resourceMethods': {'ANY': {}}}]"
      ]
     },
     "execution_count": 70,
     "metadata": {},
     "output_type": "execute_result"
    }
   ],
   "source": [
    "resources"
   ]
  },
  {
   "cell_type": "code",
   "execution_count": 78,
   "id": "e53e6300",
   "metadata": {},
   "outputs": [],
   "source": [
    "new_path = 'get-group-lines'"
   ]
  },
  {
   "cell_type": "code",
   "execution_count": 71,
   "id": "e24f27bc",
   "metadata": {},
   "outputs": [],
   "source": [
    "response = api_gw_client.create_resource(\n",
    "    restApiId=restApiId,\n",
    "    parentId=group_line_resource_id,\n",
    "    pathPart=new_path,\n",
    ")"
   ]
  },
  {
   "cell_type": "code",
   "execution_count": 83,
   "id": "66d0ab59",
   "metadata": {},
   "outputs": [
    {
     "data": {
      "text/plain": [
       "['4fs91u', 'elgofa', 'fevjy5', 'pdmkciekkf', 'q0djbe']"
      ]
     },
     "execution_count": 83,
     "metadata": {},
     "output_type": "execute_result"
    }
   ],
   "source": [
    "resources = api_gw_client.get_resources(restApiId='wbp7m35ckc',)['items']\n"
   ]
  },
  {
   "cell_type": "code",
   "execution_count": 90,
   "id": "d22d2b7b",
   "metadata": {},
   "outputs": [],
   "source": [
    "new_path_id = [resource['id'] for resource in resources if resource.get('pathPart') == new_path][0]"
   ]
  },
  {
   "cell_type": "code",
   "execution_count": 91,
   "id": "fc5909e1",
   "metadata": {},
   "outputs": [
    {
     "data": {
      "text/plain": [
       "{'ResponseMetadata': {'RequestId': '666a4a35-0071-429a-a4d5-0452df02adfe',\n",
       "  'HTTPStatusCode': 201,\n",
       "  'HTTPHeaders': {'date': 'Mon, 29 Jan 2024 04:09:40 GMT',\n",
       "   'content-type': 'application/json',\n",
       "   'content-length': '71',\n",
       "   'connection': 'keep-alive',\n",
       "   'x-amzn-requestid': '666a4a35-0071-429a-a4d5-0452df02adfe',\n",
       "   'x-amz-apigw-id': 'SSK4qLfIIAMEcgQ='},\n",
       "  'RetryAttempts': 0},\n",
       " 'httpMethod': 'GET',\n",
       " 'authorizationType': 'NONE',\n",
       " 'apiKeyRequired': False}"
      ]
     },
     "execution_count": 91,
     "metadata": {},
     "output_type": "execute_result"
    }
   ],
   "source": [
    "api_gw_client.put_method(\n",
    "                restApiId='wbp7m35ckc',\n",
    "                resourceId=new_path_id,\n",
    "                httpMethod='GET',\n",
    "                authorizationType=\"NONE\",\n",
    "            )"
   ]
  },
  {
   "cell_type": "code",
   "execution_count": 92,
   "id": "98b2e1d6",
   "metadata": {},
   "outputs": [],
   "source": [
    "put_method_res = api_gw_client.put_method_response(\n",
    "    restApiId='wbp7m35ckc',\n",
    "    resourceId=new_path_id,\n",
    "    httpMethod='GET',\n",
    "    statusCode='200'\n",
    "  )"
   ]
  },
  {
   "cell_type": "code",
   "execution_count": 75,
   "id": "e7615798",
   "metadata": {},
   "outputs": [
    {
     "data": {
      "text/plain": [
       "{'ResponseMetadata': {'RequestId': '3a860585-ac72-4d61-9d6e-dc9eb37a68e1',\n",
       "  'HTTPStatusCode': 201,\n",
       "  'HTTPHeaders': {'date': 'Mon, 29 Jan 2024 03:57:54 GMT',\n",
       "   'content-type': 'application/json',\n",
       "   'content-length': '21',\n",
       "   'connection': 'keep-alive',\n",
       "   'x-amzn-requestid': '3a860585-ac72-4d61-9d6e-dc9eb37a68e1',\n",
       "   'x-amz-apigw-id': 'SSJKfJ5bIAMEbVA='},\n",
       "  'RetryAttempts': 0},\n",
       " 'statusCode': '200'}"
      ]
     },
     "execution_count": 75,
     "metadata": {},
     "output_type": "execute_result"
    }
   ],
   "source": [
    "put_method_res"
   ]
  },
  {
   "cell_type": "code",
   "execution_count": 93,
   "id": "f68ac3d7",
   "metadata": {},
   "outputs": [],
   "source": [
    "lambda_arn = 'arn:aws:lambda:us-east-1:115312984914:function:get_group_lines'\n",
    "lambda_uri = f'arn:aws:apigateway:us-east-1:lambda:path/2015-03-31/functions/{lambda_arn}/invocations'\n",
    "put_integration = api_gw_client.put_integration(\n",
    "    restApiId='wbp7m35ckc',\n",
    "    resourceId=new_path_id,\n",
    "    httpMethod='GET',\n",
    "    type='AWS',\n",
    "    integrationHttpMethod='POST',\n",
    "    uri=lambda_uri,\n",
    "    requestTemplates={\n",
    "      \"application/json\":\"{\\\"greeter\\\":\\\"$input.params('greeter')\\\"}\"\n",
    "    },\n",
    "  )"
   ]
  },
  {
   "cell_type": "code",
   "execution_count": 94,
   "id": "2d561adc",
   "metadata": {},
   "outputs": [
    {
     "data": {
      "text/plain": [
       "{'ResponseMetadata': {'RequestId': 'c6ef9081-517e-447d-82b7-f5809db7b704',\n",
       "  'HTTPStatusCode': 201,\n",
       "  'HTTPHeaders': {'date': 'Mon, 29 Jan 2024 04:09:54 GMT',\n",
       "   'content-type': 'application/json',\n",
       "   'content-length': '377',\n",
       "   'connection': 'keep-alive',\n",
       "   'x-amzn-requestid': 'c6ef9081-517e-447d-82b7-f5809db7b704',\n",
       "   'x-amz-apigw-id': 'SSK66IuiIAMEbsA='},\n",
       "  'RetryAttempts': 0},\n",
       " 'type': 'AWS',\n",
       " 'httpMethod': 'POST',\n",
       " 'uri': 'arn:aws:apigateway:us-east-1:lambda:path/2015-03-31/functions/arn:aws:lambda:us-east-1:115312984914:function:get_group_lines/invocations',\n",
       " 'requestTemplates': {'application/json': '{\"greeter\":\"$input.params(\\'greeter\\')\"}'},\n",
       " 'passthroughBehavior': 'WHEN_NO_MATCH',\n",
       " 'timeoutInMillis': 29000,\n",
       " 'cacheNamespace': 'fevjy5',\n",
       " 'cacheKeyParameters': []}"
      ]
     },
     "execution_count": 94,
     "metadata": {},
     "output_type": "execute_result"
    }
   ],
   "source": [
    "put_integration"
   ]
  },
  {
   "cell_type": "code",
   "execution_count": 95,
   "id": "8b0c0b2e",
   "metadata": {},
   "outputs": [
    {
     "data": {
      "text/plain": [
       "{'ResponseMetadata': {'RequestId': 'c2542984-a7d3-4eb2-a771-dac26add16cf',\n",
       "  'HTTPStatusCode': 201,\n",
       "  'HTTPHeaders': {'date': 'Mon, 29 Jan 2024 04:10:03 GMT',\n",
       "   'content-type': 'application/json',\n",
       "   'content-length': '43',\n",
       "   'connection': 'keep-alive',\n",
       "   'x-amzn-requestid': 'c2542984-a7d3-4eb2-a771-dac26add16cf',\n",
       "   'x-amz-apigw-id': 'SSK8TLkeoAMEdtw='},\n",
       "  'RetryAttempts': 0},\n",
       " 'statusCode': '200',\n",
       " 'selectionPattern': ''}"
      ]
     },
     "execution_count": 95,
     "metadata": {},
     "output_type": "execute_result"
    }
   ],
   "source": [
    "put_integration_response = api_gw_client.put_integration_response(\n",
    "restApiId='wbp7m35ckc',\n",
    "    resourceId=new_path_id,\n",
    "httpMethod='GET',\n",
    "statusCode='200',\n",
    "selectionPattern=''\n",
    ")\n",
    "put_integration_response"
   ]
  },
  {
   "cell_type": "code",
   "execution_count": 96,
   "id": "5445aa14",
   "metadata": {},
   "outputs": [],
   "source": [
    "response = lambda_client.add_permission(\n",
    "    Action='lambda:InvokeFunction',\n",
    "    FunctionName='get_group_lines',\n",
    "    Principal='apigateway.amazonaws.com',\n",
    "    SourceArn='arn:aws:execute-api:us-east-1:115312984914:wbp7m35ckc/*/GET/group-line/get-group-lines',\n",
    "    StatementId='group-line_get-group-lines',\n",
    ")"
   ]
  },
  {
   "cell_type": "code",
   "execution_count": 98,
   "id": "5ca9cca6",
   "metadata": {},
   "outputs": [
    {
     "data": {
      "text/plain": [
       "{'ResponseMetadata': {'RequestId': '360419ed-cd34-49d0-a0cc-cc8f8d04705a',\n",
       "  'HTTPStatusCode': 201,\n",
       "  'HTTPHeaders': {'date': 'Mon, 29 Jan 2024 04:10:14 GMT',\n",
       "   'content-type': 'application/json',\n",
       "   'content-length': '389',\n",
       "   'connection': 'keep-alive',\n",
       "   'x-amzn-requestid': '360419ed-cd34-49d0-a0cc-cc8f8d04705a'},\n",
       "  'RetryAttempts': 0},\n",
       " 'Statement': '{\"Sid\":\"group-line_get-group-line\",\"Effect\":\"Allow\",\"Principal\":{\"Service\":\"apigateway.amazonaws.com\"},\"Action\":\"lambda:InvokeFunction\",\"Resource\":\"arn:aws:lambda:us-east-1:115312984914:function:get_group_lines\",\"Condition\":{\"ArnLike\":{\"AWS:SourceArn\":\"arn:aws:execute-api:us-east-1:115312984914:wbp7m35ckc/*/GET/group-line/get-group-lines\"}}}'}"
      ]
     },
     "execution_count": 98,
     "metadata": {},
     "output_type": "execute_result"
    }
   ],
   "source": [
    "stage_permission_response"
   ]
  },
  {
   "cell_type": "code",
   "execution_count": null,
   "id": "49739289",
   "metadata": {},
   "outputs": [],
   "source": []
  }
 ],
 "metadata": {
  "kernelspec": {
   "display_name": "Python 3 (ipykernel)",
   "language": "python",
   "name": "python3"
  },
  "language_info": {
   "codemirror_mode": {
    "name": "ipython",
    "version": 3
   },
   "file_extension": ".py",
   "mimetype": "text/x-python",
   "name": "python",
   "nbconvert_exporter": "python",
   "pygments_lexer": "ipython3",
   "version": "3.9.12"
  }
 },
 "nbformat": 4,
 "nbformat_minor": 5
}
